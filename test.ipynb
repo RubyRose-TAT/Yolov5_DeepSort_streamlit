{
 "cells": [
  {
   "cell_type": "code",
   "execution_count": 1,
   "metadata": {},
   "outputs": [
    {
     "name": "stdout",
     "output_type": "stream",
     "text": [
      "Setup complete. Using torch 1.11.0 (NVIDIA GeForce GTX 1660 Ti with Max-Q Design)\n"
     ]
    }
   ],
   "source": [
    "import torch\n",
    "from IPython.display import Image, clear_output  # to display images\n",
    "\n",
    "clear_output()\n",
    "print(f\"Setup complete. Using torch {torch.__version__} ({torch.cuda.get_device_properties(0).name if torch.cuda.is_available() else 'CPU'})\")"
   ]
  },
  {
   "cell_type": "code",
   "execution_count": 2,
   "metadata": {},
   "outputs": [
    {
     "name": "stdout",
     "output_type": "stream",
     "text": [
      "True\n"
     ]
    }
   ],
   "source": [
    "print(torch.cuda.is_available())"
   ]
  },
  {
   "cell_type": "code",
   "execution_count": 3,
   "metadata": {},
   "outputs": [
    {
     "data": {
      "text/plain": [
       "1"
      ]
     },
     "execution_count": 3,
     "metadata": {},
     "output_type": "execute_result"
    }
   ],
   "source": [
    "torch.cuda.device_count()"
   ]
  },
  {
   "cell_type": "code",
   "execution_count": 4,
   "metadata": {},
   "outputs": [
    {
     "name": "stderr",
     "output_type": "stream",
     "text": [
      "Traceback (most recent call last):\n",
      "  File \"track.py\", line 31, in <module>\n",
      "    from deep_sort.utils.parser import get_config\n",
      "  File \"c:\\Users\\70780\\Desktop\\streamlit\\Yolov5_DeepSort_OSNet\\deep_sort\\__init__.py\", line 1, in <module>\n",
      "    from .deep_sort import DeepSort\n",
      "  File \"c:\\Users\\70780\\Desktop\\streamlit\\Yolov5_DeepSort_OSNet\\deep_sort\\deep_sort.py\", line 4, in <module>\n",
      "    import gdown\n",
      "ModuleNotFoundError: No module named 'gdown'\n"
     ]
    }
   ],
   "source": [
    "!python track.py --source inference/video/10s.mp4 --yolo_model yolov5/weights/crowdhuman_yolov5m.pt --classes 0 --deep_sort_model osnet_x1_0_market1501 --img 1280 --save-vid"
   ]
  }
 ],
 "metadata": {
  "interpreter": {
   "hash": "325131561743bae3dedce9e0fe909439aed8ec0a0cfb8f2b02bf1e414ac9f759"
  },
  "kernelspec": {
   "display_name": "Python 3.8.13 ('yolo')",
   "language": "python",
   "name": "python3"
  },
  "language_info": {
   "codemirror_mode": {
    "name": "ipython",
    "version": 3
   },
   "file_extension": ".py",
   "mimetype": "text/x-python",
   "name": "python",
   "nbconvert_exporter": "python",
   "pygments_lexer": "ipython3",
   "version": "3.8.13"
  },
  "orig_nbformat": 4
 },
 "nbformat": 4,
 "nbformat_minor": 2
}
